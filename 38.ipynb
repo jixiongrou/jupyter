{
 "cells": [
  {
   "cell_type": "markdown",
   "id": "057549e7",
   "metadata": {},
   "source": [
    "### 1. 输出hello world"
   ]
  },
  {
   "cell_type": "code",
   "execution_count": 1,
   "id": "f2d4ea3a",
   "metadata": {},
   "outputs": [
    {
     "name": "stdout",
     "output_type": "stream",
     "text": [
      "hello world\n"
     ]
    }
   ],
   "source": [
    "print('hello world')    #print()函数里面单引号和双引号都行，输出的内容直接是引号里面的内容。"
   ]
  },
  {
   "cell_type": "markdown",
   "id": "d4a3d7d5",
   "metadata": {},
   "source": [
    "### 2. 对列表[1,....10]求均值并输出"
   ]
  },
  {
   "cell_type": "code",
   "execution_count": 2,
   "id": "e46cdf52",
   "metadata": {},
   "outputs": [
    {
     "name": "stdout",
     "output_type": "stream",
     "text": [
      "5.5\n"
     ]
    }
   ],
   "source": [
    "ls = [1,2,3,4,5,6,7,8,9,10]    #列表就是用方括号包起来的东西 形式就是list = [...]\n",
    "s = sum(ls)    #这个sum（）是python的内置函数，用来求列表的所有元素的和（列表中用逗号分开各个元素），这里就是求1到10的和\n",
    "pj = s / len(ls)    #pj就是平均值。len（）也是内置函数，求列表的长度，就是列表里有几个元素，这里有1到10十个元素\n",
    "print(pj)    #print()里面也可以是变量，这时候就不能加引号，不然输出的就直接是引号里的字母了"
   ]
  },
  {
   "cell_type": "markdown",
   "id": "5bd0d6f8",
   "metadata": {},
   "source": [
    "### 3. 解一元二次方程，系数从键盘输入"
   ]
  },
  {
   "cell_type": "code",
   "execution_count": null,
   "id": "03dd2345",
   "metadata": {},
   "outputs": [],
   "source": []
  },
  {
   "cell_type": "markdown",
   "id": "17c6e194",
   "metadata": {},
   "source": [
    "### 4. 键盘输入4位数，判断是否为闰年，是：out值为1；否则：out值为0。（年份能被400整除是闰年；能被4整除但不被100整除也是闰年）"
   ]
  },
  {
   "cell_type": "code",
   "execution_count": 6,
   "id": "bf8d1a0c",
   "metadata": {},
   "outputs": [
    {
     "name": "stdout",
     "output_type": "stream",
     "text": [
      "input an integer of 4 digits meaning the year:2020\n",
      "1\n"
     ]
    }
   ],
   "source": [
    "x = input('input an integer of 4 digits meaning the year:')    #里面的文字提升用户体验，不加也行\n",
    "x = eval(x)\n",
    "if x % 400 == 0 or (x % 4 == 0 and not x % 100 == 0):    #照题目给的写。% 表示取余：x % 400 就是x除以400余数多少，等于0表示能被400整除\n",
    "                                                           #能被4整除但是不能被100整除，这个是要同时满足，所以是and\n",
    "    print('1')\n",
    "else:\n",
    "    print('0')"
   ]
  },
  {
   "cell_type": "markdown",
   "id": "4391b5e3",
   "metadata": {},
   "source": [
    "### 5. 键盘输入x,y,z。比较大小，按从小到大排序"
   ]
  },
  {
   "cell_type": "code",
   "execution_count": 17,
   "id": "5e3e9512",
   "metadata": {},
   "outputs": [
    {
     "name": "stdout",
     "output_type": "stream",
     "text": [
      "输入x,y,z, 用逗号隔开：0,0,0\n",
      "      x    y    z\n",
      "排序前：0    0    0\n"
     ]
    }
   ],
   "source": [
    "x, y, z = eval(input(\"输入x,y,z, 用逗号隔开：\"))    #input()函数输入时，用逗号可以一次输入多个值。\n",
    "                                                    #注意：1. 整个python里都要用英文输入法，中文括号会报错\n",
    "                                                    #      2. 有几个变量就输入几个值，不然也会报错。比如这边 只能输入三个值\n",
    "print(\"      x    y    z\")\n",
    "print(\"排序前：{:5d}{:5d}{:5d}\".format(x,y,z))    #format() 方法是用于字符串格式化的方法。\n",
    "                                                    #把xyz的值放到前面{：5d}的地方。：d表示的是整数\n",
    "                                                    #5表示占5个位置。比如输入100，就是两个空格再加100；如果输入34，就是三个空格加34\n",
    "if x > y:\n",
    "    x, y = y, x\n",
    "if y > z:\n",
    "    y, z = z, y\n",
    "if x > y:\n",
    "    x, y = y, x    #这三个if进行判断和置换。举例：8，4，5：1. x>y所以交换位置，4，8，5 2. y>z所以交换位置，4，5，8 3.x>y不成立所以不变\n",
    "print(\"排序后：{:5d}{:5d}{:5d}\".format(x,y,z))"
   ]
  },
  {
   "cell_type": "markdown",
   "id": "06f11367",
   "metadata": {},
   "source": [
    "### 6. 计算分段函数（没看到题，应该是给三个情况，输入x输出y）"
   ]
  },
  {
   "cell_type": "code",
   "execution_count": null,
   "id": "9345a425",
   "metadata": {},
   "outputs": [],
   "source": [
    "import math    #math库，用来算sin，sqrt，exp，log，cos等数学式子\n",
    "x = eval(input(\"输入x: \"))\n",
    "if x >= 5:\n",
    "    y = math.sin(x) + math.sqrt(x ** 2 + 1)    #sin(x) + 根号下（x平方 + 1），几次方就是 ** ，平方就是**2，立方就是 **3\n",
    "elif x >= 0:\n",
    "    y = math.exp(x) + math.log(x,5) + x ** (1/5)    #e的x次方 + 以5为底 x的对数 + x的五分之一次方\n",
    "else:\n",
    "    y = math.cos(x) - x ** 3 + 3 * x   #类推\n",
    "print(\"y的值是：{:2f}\".format(y))    #和第五题一样， f表示浮点型，就是带小数的"
   ]
  },
  {
   "cell_type": "markdown",
   "id": "92f0c7ec",
   "metadata": {},
   "source": [
    "### 7. 8. 和6类似"
   ]
  },
  {
   "cell_type": "markdown",
   "id": "5a7f2e4f",
   "metadata": {},
   "source": [
    "### 9. 富翁赚钱：一天10万，三十天；富翁出钱：第一天1分，第二天2分，第三天4分，以此类推到三十天。求赚的钱和出的钱"
   ]
  },
  {
   "cell_type": "code",
   "execution_count": 19,
   "id": "ac77d507",
   "metadata": {},
   "outputs": [
    {
     "name": "stdout",
     "output_type": "stream",
     "text": [
      "3000000 10737418.24\n"
     ]
    }
   ],
   "source": [
    "sum_in = 0    #富翁赚的钱，初始为0\n",
    "sum_out = 0.01    #富翁要出的钱，第一天是0.01 * 2的零次方，第二天是0.01 * 2的一次方\n",
    "for i in range(1, 31):    #for循环。range（）表示范围，从1递增到30，注意这个31取不到，只能取到前一个数。所以是1到30\n",
    "    sum_in += 100000    #sum_in 加上100000再重新赋值给sum_in，等于是sum_in自己加了100000\n",
    "    sum_out *= 2    #一样\n",
    "print(sum_in, sum_out)   "
   ]
  },
  {
   "cell_type": "code",
   "execution_count": null,
   "id": "dcc8ff91",
   "metadata": {},
   "outputs": [],
   "source": []
  }
 ],
 "metadata": {
  "kernelspec": {
   "display_name": "Python 3 (ipykernel)",
   "language": "python",
   "name": "python3"
  },
  "language_info": {
   "codemirror_mode": {
    "name": "ipython",
    "version": 3
   },
   "file_extension": ".py",
   "mimetype": "text/x-python",
   "name": "python",
   "nbconvert_exporter": "python",
   "pygments_lexer": "ipython3",
   "version": "3.10.9"
  }
 },
 "nbformat": 4,
 "nbformat_minor": 5
}
