{
 "cells": [
  {
   "cell_type": "code",
   "execution_count": 18,
   "id": "0c2f80c0",
   "metadata": {},
   "outputs": [],
   "source": [
    "import pandas as pd"
   ]
  },
  {
   "cell_type": "code",
   "execution_count": 26,
   "id": "04981592",
   "metadata": {},
   "outputs": [
    {
     "name": "stdout",
     "output_type": "stream",
     "text": [
      "     性别      学院        专业  \n",
      "张三   男      会计学院      审计\n",
      "李四   男      会计学院      审计\n",
      "王军   男      会计学院      审计\n",
      "李强   男  工商管理学院  市场营销\n"
     ]
    }
   ],
   "source": [
    "scores = [[\"男\", \"会计学院\", \"审计\"], [\"男\", \"会计学院\", \"审计\"], \n",
    "          [\"男\", \"会计学院\", \"审计\"], [\"男\", \"工商管理学院\", \"市场营销\"]]\n",
    "names = [\"张三\", \"李四\", \"王军\", \"李强\"]\n",
    "courses = [\"性别\", \"学院\", \"专业\"]\n",
    "\n",
    "df = pd.DataFrame(data=scores, columns=courses, index=names)\n",
    "\n",
    "print(df.to_string(index=True, justify='center'))    #https://pandas.pydata.org/docs/reference/api/pandas.DataFrame.to_string.html"
   ]
  },
  {
   "cell_type": "code",
   "execution_count": 47,
   "id": "00a5c6e3",
   "metadata": {
    "scrolled": true
   },
   "outputs": [
    {
     "name": "stdout",
     "output_type": "stream",
     "text": [
      "['男', '会计学院', '审计']\n"
     ]
    }
   ],
   "source": [
    "print(list(df.loc[\"王军\"]))"
   ]
  },
  {
   "cell_type": "code",
   "execution_count": 96,
   "id": "5677dee5",
   "metadata": {},
   "outputs": [
    {
     "data": {
      "text/plain": [
       "{'审计', '市场营销'}"
      ]
     },
     "execution_count": 96,
     "metadata": {},
     "output_type": "execute_result"
    }
   ],
   "source": [
    "subjects = set(list(df[\"专业\"]))\n",
    "subjects"
   ]
  },
  {
   "cell_type": "code",
   "execution_count": 95,
   "id": "2149a27b",
   "metadata": {},
   "outputs": [
    {
     "data": {
      "text/plain": [
       "'审计'"
      ]
     },
     "execution_count": 95,
     "metadata": {},
     "output_type": "execute_result"
    }
   ],
   "source": [
    "df.loc[\"王军\", \"专业\"]    #tip: 如果一个cell里只有一个值要输出，可以不用print"
   ]
  },
  {
   "cell_type": "code",
   "execution_count": null,
   "id": "e3503766",
   "metadata": {},
   "outputs": [],
   "source": []
  },
  {
   "cell_type": "markdown",
   "id": "ef38d74b",
   "metadata": {},
   "source": [
    "<font face=\"微软雅黑\" size=5 color=#A52A2A >1.查看信息的操作"
   ]
  },
  {
   "cell_type": "code",
   "execution_count": 43,
   "id": "105d1f74",
   "metadata": {},
   "outputs": [
    {
     "data": {
      "text/plain": [
       "Index(['张三', '李四', '王军', '李强'], dtype='object')"
      ]
     },
     "execution_count": 43,
     "metadata": {},
     "output_type": "execute_result"
    }
   ],
   "source": [
    "#查看索引，就是左边那一列\n",
    "df.index"
   ]
  },
  {
   "cell_type": "code",
   "execution_count": 55,
   "id": "26fa966b",
   "metadata": {},
   "outputs": [
    {
     "name": "stdout",
     "output_type": "stream",
     "text": [
      "Index(['性别', '学院', '专业'], dtype='object')\n",
      "性别\n"
     ]
    }
   ],
   "source": [
    "#查看列名\n",
    "print(df.columns)\n",
    "#可以像数组一样操作\n",
    "print(df.columns[0])"
   ]
  },
  {
   "cell_type": "code",
   "execution_count": 56,
   "id": "a5934f44",
   "metadata": {},
   "outputs": [
    {
     "data": {
      "text/plain": [
       "array([['男', '会计学院', '审计'],\n",
       "       ['男', '会计学院', '审计'],\n",
       "       ['男', '会计学院', '审计'],\n",
       "       ['男', '工商管理学院', '市场营销']], dtype=object)"
      ]
     },
     "execution_count": 56,
     "metadata": {},
     "output_type": "execute_result"
    }
   ],
   "source": [
    "#查看所有数据\n",
    "df.values"
   ]
  },
  {
   "cell_type": "markdown",
   "id": "a77d5288",
   "metadata": {},
   "source": [
    "<font face=\"微软雅黑\" size=5 color=#A52A2A >2.选择信息的操作（选择一行、一列等）"
   ]
  },
  {
   "cell_type": "code",
   "execution_count": 73,
   "id": "a0c6b1d1",
   "metadata": {},
   "outputs": [
    {
     "name": "stdout",
     "output_type": "stream",
     "text": [
      "张三        会计学院\n",
      "李四        会计学院\n",
      "王军        会计学院\n",
      "李强    工商管理学院\n",
      "Name: 学院, dtype: object\n",
      "\n",
      "\n",
      "张三        会计学院\n",
      "李四        会计学院\n",
      "王军        会计学院\n",
      "李强    工商管理学院\n",
      "Name: 学院, dtype: object\n",
      "\n",
      "\n",
      "['会计学院', '会计学院', '会计学院', '工商管理学院']\n"
     ]
    }
   ],
   "source": [
    "#选择一列，格式为dataframe.column_name\n",
    "print(df.学院)\n",
    "print('\\n')\n",
    "\n",
    "#另一种方法，只能选择一列\n",
    "print(df[\"学院\"])\n",
    "print('\\n')\n",
    "\n",
    "#可以用list()方法转为数组格式\n",
    "print(list(df.学院))"
   ]
  },
  {
   "cell_type": "code",
   "execution_count": 80,
   "id": "2ef76220",
   "metadata": {},
   "outputs": [
    {
     "name": "stdout",
     "output_type": "stream",
     "text": [
      "性别          男\n",
      "学院    会计学院\n",
      "专业        审计\n",
      "Name: 王军, dtype: object\n",
      "\n",
      "\n",
      "     性别          学院\n",
      "张三   男      会计学院\n",
      "李四   男      会计学院\n",
      "王军   男      会计学院\n",
      "李强   男  工商管理学院\n",
      "\n",
      "\n",
      "          学院\n",
      "王军  会计学院\n",
      "\n",
      "\n",
      "会计学院\n"
     ]
    }
   ],
   "source": [
    "#dataframe.loc[]，一般用的比较多，因为好理解。\n",
    "\n",
    "#最简单的形式，参数是行名\n",
    "print(df.loc[\"王军\"])\n",
    "print('\\n')\n",
    "\n",
    "#逗号前是行的索引，逗号后是列的索引，冒号是数组的切片操作，[:]表示整个数组。这句意思是选择所有行但是只选择“性别”和“学院”这两列\n",
    "print(df.loc[:,[\"性别\", \"学院\"]])\n",
    "print('\\n')\n",
    "\n",
    "#和上一句类似，可以选择一行一列，就可以选择某个具体值\n",
    "print(df.loc[[\"王军\"],[\"学院\"]])\n",
    "print('\\n')\n",
    "#选择某个元素还有另一种写法,和上一句差不多只有一个方括号，结果会比上一句少了行名和列名，直接就是string类型。\n",
    "#可以记成，简单的写法出来的结果就简单\n",
    "print(df.loc[\"王军\",\"学院\"])"
   ]
  },
  {
   "cell_type": "code",
   "execution_count": 74,
   "id": "d4d9a4d1",
   "metadata": {},
   "outputs": [
    {
     "data": {
      "text/plain": [
       "[1, 2, 3, 4]"
      ]
     },
     "execution_count": 74,
     "metadata": {},
     "output_type": "execute_result"
    }
   ],
   "source": [
    "#切片\n",
    "a = [1,2,3,4]\n",
    "a[:]"
   ]
  },
  {
   "cell_type": "markdown",
   "id": "feec98f4",
   "metadata": {},
   "source": [
    "<font face=\"微软雅黑\" size=5 color=#A52A2A >3.集合"
   ]
  },
  {
   "cell_type": "code",
   "execution_count": 93,
   "id": "0bda05d2",
   "metadata": {},
   "outputs": [
    {
     "name": "stdout",
     "output_type": "stream",
     "text": [
      "{1, 2, 3, 4, 5, 6}\n",
      "<class 'dict'>\n"
     ]
    }
   ],
   "source": [
    "#集合是一个无序的无重复元素序列。形式是带花括号的{1，2，3}，把数组转换为集合时，会自动去掉里面重复的元素。\n",
    "b = [1, 2, 3, 4, 4, 4, 5, 6]\n",
    "b_set = set(b)\n",
    "print(b_set)\n",
    "\n",
    "#初始化集合两种方法\n",
    "c = set()\n",
    "c = {1, 2} #里面一定要有元素，不能用c = {}这种方法，这样初始化出来的是字典类型。\n",
    "\n",
    "c = {}\n",
    "print(type(c))"
   ]
  },
  {
   "cell_type": "markdown",
   "id": "5ecc1101",
   "metadata": {},
   "source": [
    "<font face=\"微软雅黑\" size=5 color=#A52A2A >4.总结"
   ]
  },
  {
   "cell_type": "code",
   "execution_count": null,
   "id": "4a0bc2ab",
   "metadata": {},
   "outputs": [],
   "source": [
    "#别的记不住的话务必记得这三个：dataframe.index， dataframe.columns， dataframe.loc[]\n",
    "#基本就够用了，别的用到再说"
   ]
  },
  {
   "cell_type": "code",
   "execution_count": 45,
   "id": "7f27ed89",
   "metadata": {},
   "outputs": [
    {
     "data": {
      "text/html": [
       "<div>\n",
       "<style scoped>\n",
       "    .dataframe tbody tr th:only-of-type {\n",
       "        vertical-align: middle;\n",
       "    }\n",
       "\n",
       "    .dataframe tbody tr th {\n",
       "        vertical-align: top;\n",
       "    }\n",
       "\n",
       "    .dataframe thead th {\n",
       "        text-align: right;\n",
       "    }\n",
       "</style>\n",
       "<table border=\"1\" class=\"dataframe\">\n",
       "  <thead>\n",
       "    <tr style=\"text-align: right;\">\n",
       "      <th></th>\n",
       "      <th>性别</th>\n",
       "      <th>学院</th>\n",
       "      <th>专业</th>\n",
       "    </tr>\n",
       "  </thead>\n",
       "  <tbody>\n",
       "    <tr>\n",
       "      <th>张三</th>\n",
       "      <td>男</td>\n",
       "      <td>会计学院</td>\n",
       "      <td>审计</td>\n",
       "    </tr>\n",
       "    <tr>\n",
       "      <th>李四</th>\n",
       "      <td>男</td>\n",
       "      <td>会计学院</td>\n",
       "      <td>审计</td>\n",
       "    </tr>\n",
       "    <tr>\n",
       "      <th>王军</th>\n",
       "      <td>男</td>\n",
       "      <td>会计学院</td>\n",
       "      <td>审计</td>\n",
       "    </tr>\n",
       "    <tr>\n",
       "      <th>李强</th>\n",
       "      <td>男</td>\n",
       "      <td>工商管理学院</td>\n",
       "      <td>市场营销</td>\n",
       "    </tr>\n",
       "  </tbody>\n",
       "</table>\n",
       "</div>"
      ],
      "text/plain": [
       "     性别          学院      专业\n",
       "张三   男      会计学院      审计\n",
       "李四   男      会计学院      审计\n",
       "王军   男      会计学院      审计\n",
       "李强   男  工商管理学院  市场营销"
      ]
     },
     "execution_count": 45,
     "metadata": {},
     "output_type": "execute_result"
    }
   ],
   "source": [
    "df"
   ]
  },
  {
   "cell_type": "code",
   "execution_count": 94,
   "id": "31cb9d9b",
   "metadata": {},
   "outputs": [
    {
     "data": {
      "text/html": [
       "<div>\n",
       "<style scoped>\n",
       "    .dataframe tbody tr th:only-of-type {\n",
       "        vertical-align: middle;\n",
       "    }\n",
       "\n",
       "    .dataframe tbody tr th {\n",
       "        vertical-align: top;\n",
       "    }\n",
       "\n",
       "    .dataframe thead th {\n",
       "        text-align: right;\n",
       "    }\n",
       "</style>\n",
       "<table border=\"1\" class=\"dataframe\">\n",
       "  <thead>\n",
       "    <tr style=\"text-align: right;\">\n",
       "      <th></th>\n",
       "      <th>张三</th>\n",
       "      <th>李四</th>\n",
       "      <th>王军</th>\n",
       "      <th>李强</th>\n",
       "    </tr>\n",
       "  </thead>\n",
       "  <tbody>\n",
       "    <tr>\n",
       "      <th>性别</th>\n",
       "      <td>男</td>\n",
       "      <td>男</td>\n",
       "      <td>男</td>\n",
       "      <td>男</td>\n",
       "    </tr>\n",
       "    <tr>\n",
       "      <th>学院</th>\n",
       "      <td>会计学院</td>\n",
       "      <td>会计学院</td>\n",
       "      <td>会计学院</td>\n",
       "      <td>工商管理学院</td>\n",
       "    </tr>\n",
       "    <tr>\n",
       "      <th>专业</th>\n",
       "      <td>审计</td>\n",
       "      <td>审计</td>\n",
       "      <td>审计</td>\n",
       "      <td>市场营销</td>\n",
       "    </tr>\n",
       "  </tbody>\n",
       "</table>\n",
       "</div>"
      ],
      "text/plain": [
       "          张三      李四      王军          李强\n",
       "性别        男        男        男            男\n",
       "学院  会计学院  会计学院  会计学院  工商管理学院\n",
       "专业      审计      审计      审计      市场营销"
      ]
     },
     "execution_count": 94,
     "metadata": {},
     "output_type": "execute_result"
    }
   ],
   "source": [
    "df.T"
   ]
  },
  {
   "cell_type": "code",
   "execution_count": null,
   "id": "422ad4db",
   "metadata": {},
   "outputs": [],
   "source": []
  },
  {
   "cell_type": "markdown",
   "id": "fbe460ab",
   "metadata": {},
   "source": [
    "-T"
   ]
  }
 ],
 "metadata": {
  "kernelspec": {
   "display_name": "Python 3 (ipykernel)",
   "language": "python",
   "name": "python3"
  },
  "language_info": {
   "codemirror_mode": {
    "name": "ipython",
    "version": 3
   },
   "file_extension": ".py",
   "mimetype": "text/x-python",
   "name": "python",
   "nbconvert_exporter": "python",
   "pygments_lexer": "ipython3",
   "version": "3.10.9"
  }
 },
 "nbformat": 4,
 "nbformat_minor": 5
}
